{
 "cells": [
  {
   "cell_type": "code",
   "execution_count": 36,
   "metadata": {},
   "outputs": [],
   "source": [
    "import pandas as pd\n",
    "import geopandas as gp\n",
    "import matplotlib.pyplot as plt\n",
    "import datetime as dt\n",
    "%matplotlib inline"
   ]
  },
  {
   "cell_type": "code",
   "execution_count": 37,
   "metadata": {},
   "outputs": [],
   "source": [
    "df=pd.read_csv(\"USA presidential trips.csv\", parse_dates=[\"Date start\", \"Date end\"])"
   ]
  },
  {
   "cell_type": "code",
   "execution_count": 38,
   "metadata": {},
   "outputs": [
    {
     "data": {
      "text/plain": [
       "(82, 10)"
      ]
     },
     "execution_count": 38,
     "metadata": {},
     "output_type": "execute_result"
    }
   ],
   "source": [
    "df.shape"
   ]
  },
  {
   "cell_type": "code",
   "execution_count": 39,
   "metadata": {},
   "outputs": [
    {
     "data": {
      "text/html": [
       "<div>\n",
       "<style scoped>\n",
       "    .dataframe tbody tr th:only-of-type {\n",
       "        vertical-align: middle;\n",
       "    }\n",
       "\n",
       "    .dataframe tbody tr th {\n",
       "        vertical-align: top;\n",
       "    }\n",
       "\n",
       "    .dataframe thead th {\n",
       "        text-align: right;\n",
       "    }\n",
       "</style>\n",
       "<table border=\"1\" class=\"dataframe\">\n",
       "  <thead>\n",
       "    <tr style=\"text-align: right;\">\n",
       "      <th></th>\n",
       "      <th>Country of president</th>\n",
       "      <th>President</th>\n",
       "      <th>Location country</th>\n",
       "      <th>Location city</th>\n",
       "      <th>Date start</th>\n",
       "      <th>Date end</th>\n",
       "      <th>Subject</th>\n",
       "      <th>President popularity</th>\n",
       "      <th>US favourability</th>\n",
       "      <th>Unnamed: 9</th>\n",
       "    </tr>\n",
       "  </thead>\n",
       "  <tbody>\n",
       "    <tr>\n",
       "      <th>0</th>\n",
       "      <td>USA</td>\n",
       "      <td>W. BUSH</td>\n",
       "      <td>Mexico</td>\n",
       "      <td>San Cristobal</td>\n",
       "      <td>2001-02-16</td>\n",
       "      <td>2001-02-16</td>\n",
       "      <td>Meeting with President Fox.</td>\n",
       "      <td>-</td>\n",
       "      <td>68</td>\n",
       "      <td>NaN</td>\n",
       "    </tr>\n",
       "    <tr>\n",
       "      <th>1</th>\n",
       "      <td>USA</td>\n",
       "      <td>W. BUSH</td>\n",
       "      <td>Spain</td>\n",
       "      <td>Madrid</td>\n",
       "      <td>2001-12-06</td>\n",
       "      <td>2001-06-13</td>\n",
       "      <td>Met with King Juan Carlos I and President Aznar.</td>\n",
       "      <td>-</td>\n",
       "      <td>50</td>\n",
       "      <td>NaN</td>\n",
       "    </tr>\n",
       "    <tr>\n",
       "      <th>2</th>\n",
       "      <td>USA</td>\n",
       "      <td>W. BUSH</td>\n",
       "      <td>Poland</td>\n",
       "      <td>Warsaw</td>\n",
       "      <td>2001-06-15</td>\n",
       "      <td>2001-06-16</td>\n",
       "      <td>State visit.</td>\n",
       "      <td>-</td>\n",
       "      <td>86</td>\n",
       "      <td>NaN</td>\n",
       "    </tr>\n",
       "    <tr>\n",
       "      <th>3</th>\n",
       "      <td>USA</td>\n",
       "      <td>W. BUSH</td>\n",
       "      <td>Slovenia</td>\n",
       "      <td>Kranj</td>\n",
       "      <td>2001-06-16</td>\n",
       "      <td>2001-06-16</td>\n",
       "      <td>Met with Prime Minister Drnovsek and Russian P...</td>\n",
       "      <td>-</td>\n",
       "      <td>NaN</td>\n",
       "      <td>NaN</td>\n",
       "    </tr>\n",
       "    <tr>\n",
       "      <th>4</th>\n",
       "      <td>USA</td>\n",
       "      <td>W. BUSH</td>\n",
       "      <td>United Kingdom</td>\n",
       "      <td>London, Chequers, Halton, Brize Norton</td>\n",
       "      <td>2001-07-18</td>\n",
       "      <td>2001-07-20</td>\n",
       "      <td>Met with Prime Minister Blain and Queen Elizab...</td>\n",
       "      <td>30</td>\n",
       "      <td>83</td>\n",
       "      <td>NaN</td>\n",
       "    </tr>\n",
       "  </tbody>\n",
       "</table>\n",
       "</div>"
      ],
      "text/plain": [
       "  Country of president President Location country  \\\n",
       "0                  USA   W. BUSH           Mexico   \n",
       "1                  USA   W. BUSH            Spain   \n",
       "2                  USA   W. BUSH           Poland   \n",
       "3                  USA   W. BUSH         Slovenia   \n",
       "4                  USA   W. BUSH   United Kingdom   \n",
       "\n",
       "                            Location city Date start   Date end  \\\n",
       "0                           San Cristobal 2001-02-16 2001-02-16   \n",
       "1                                  Madrid 2001-12-06 2001-06-13   \n",
       "2                                  Warsaw 2001-06-15 2001-06-16   \n",
       "3                                   Kranj 2001-06-16 2001-06-16   \n",
       "4  London, Chequers, Halton, Brize Norton 2001-07-18 2001-07-20   \n",
       "\n",
       "                                             Subject President popularity  \\\n",
       "0                        Meeting with President Fox.                    -   \n",
       "1   Met with King Juan Carlos I and President Aznar.                    -   \n",
       "2                                       State visit.                    -   \n",
       "3  Met with Prime Minister Drnovsek and Russian P...                    -   \n",
       "4  Met with Prime Minister Blain and Queen Elizab...                   30   \n",
       "\n",
       "  US favourability Unnamed: 9  \n",
       "0               68        NaN  \n",
       "1               50        NaN  \n",
       "2               86        NaN  \n",
       "3              NaN        NaN  \n",
       "4               83        NaN  "
      ]
     },
     "execution_count": 39,
     "metadata": {},
     "output_type": "execute_result"
    }
   ],
   "source": [
    "df.head()"
   ]
  },
  {
   "cell_type": "code",
   "execution_count": 40,
   "metadata": {},
   "outputs": [
    {
     "data": {
      "text/plain": [
       "W. BUSH    35\n",
       "OBAMA      25\n",
       "TRUMP      22\n",
       "Name: President, dtype: int64"
      ]
     },
     "execution_count": 40,
     "metadata": {},
     "output_type": "execute_result"
    }
   ],
   "source": [
    "df[\"President\"].value_counts()"
   ]
  },
  {
   "cell_type": "code",
   "execution_count": 41,
   "metadata": {},
   "outputs": [
    {
     "data": {
      "text/plain": [
       "Country of president            object\n",
       "President                       object\n",
       "Location country                object\n",
       "Location city                   object\n",
       "Date start              datetime64[ns]\n",
       "Date end                datetime64[ns]\n",
       "Subject                         object\n",
       "President popularity            object\n",
       "US favourability                object\n",
       "Unnamed: 9                      object\n",
       "dtype: object"
      ]
     },
     "execution_count": 41,
     "metadata": {},
     "output_type": "execute_result"
    }
   ],
   "source": [
    "df.dtypes"
   ]
  },
  {
   "cell_type": "code",
   "execution_count": 42,
   "metadata": {},
   "outputs": [],
   "source": [
    "df[\"trip_length\"] = df.apply(lambda x: x[\"Date end\"] - x[\"Date start\"] + dt.timedelta(days=1), axis=1)"
   ]
  },
  {
   "cell_type": "code",
   "execution_count": 43,
   "metadata": {},
   "outputs": [
    {
     "data": {
      "text/plain": [
       "President\n",
       "OBAMA     528 days\n",
       "TRUMP     368 days\n",
       "W. BUSH   233 days\n",
       "Name: trip_length, dtype: timedelta64[ns]"
      ]
     },
     "execution_count": 43,
     "metadata": {},
     "output_type": "execute_result"
    }
   ],
   "source": [
    "df[df[\"trip_length\"] > dt.timedelta(days=0)].groupby(\"President\")[\"trip_length\"].sum()"
   ]
  },
  {
   "cell_type": "code",
   "execution_count": 44,
   "metadata": {},
   "outputs": [
    {
     "data": {
      "text/plain": [
       "(28, 11)"
      ]
     },
     "execution_count": 44,
     "metadata": {},
     "output_type": "execute_result"
    }
   ],
   "source": [
    "df[\n",
    "    (df[\"trip_length\"] < dt.timedelta(days=0)) |\n",
    "    (df[\"trip_length\"] > dt.timedelta(days=10))\n",
    "].shape"
   ]
  },
  {
   "cell_type": "code",
   "execution_count": 48,
   "metadata": {},
   "outputs": [],
   "source": [
    "df1=pd.read_csv('USA_trips.csv', parse_dates=[\"Date start\", \"Date end\"])"
   ]
  },
  {
   "cell_type": "code",
   "execution_count": 49,
   "metadata": {},
   "outputs": [
    {
     "data": {
      "text/html": [
       "<div>\n",
       "<style scoped>\n",
       "    .dataframe tbody tr th:only-of-type {\n",
       "        vertical-align: middle;\n",
       "    }\n",
       "\n",
       "    .dataframe tbody tr th {\n",
       "        vertical-align: top;\n",
       "    }\n",
       "\n",
       "    .dataframe thead th {\n",
       "        text-align: right;\n",
       "    }\n",
       "</style>\n",
       "<table border=\"1\" class=\"dataframe\">\n",
       "  <thead>\n",
       "    <tr style=\"text-align: right;\">\n",
       "      <th></th>\n",
       "      <th>Country of president</th>\n",
       "      <th>President</th>\n",
       "      <th>Location country</th>\n",
       "      <th>Location city</th>\n",
       "      <th>Date start</th>\n",
       "      <th>Date end</th>\n",
       "      <th>Subject</th>\n",
       "      <th>President popularity</th>\n",
       "      <th>US favourability</th>\n",
       "      <th>Unnamed: 9</th>\n",
       "    </tr>\n",
       "  </thead>\n",
       "  <tbody>\n",
       "    <tr>\n",
       "      <th>0</th>\n",
       "      <td>USA</td>\n",
       "      <td>W. BUSH</td>\n",
       "      <td>Mexico</td>\n",
       "      <td>San Cristobal</td>\n",
       "      <td>2001-02-16</td>\n",
       "      <td>2001-02-16</td>\n",
       "      <td>Meeting with President Fox.</td>\n",
       "      <td>-</td>\n",
       "      <td>68</td>\n",
       "      <td>NaN</td>\n",
       "    </tr>\n",
       "    <tr>\n",
       "      <th>1</th>\n",
       "      <td>USA</td>\n",
       "      <td>W. BUSH</td>\n",
       "      <td>Spain</td>\n",
       "      <td>Madrid</td>\n",
       "      <td>2001-06-12</td>\n",
       "      <td>2001-06-13</td>\n",
       "      <td>Met with King Juan Carlos I and President Aznar.</td>\n",
       "      <td>-</td>\n",
       "      <td>50</td>\n",
       "      <td>NaN</td>\n",
       "    </tr>\n",
       "    <tr>\n",
       "      <th>2</th>\n",
       "      <td>USA</td>\n",
       "      <td>W. BUSH</td>\n",
       "      <td>Poland</td>\n",
       "      <td>Warsaw</td>\n",
       "      <td>2001-06-15</td>\n",
       "      <td>2001-06-16</td>\n",
       "      <td>State visit.</td>\n",
       "      <td>-</td>\n",
       "      <td>86</td>\n",
       "      <td>NaN</td>\n",
       "    </tr>\n",
       "    <tr>\n",
       "      <th>3</th>\n",
       "      <td>USA</td>\n",
       "      <td>W. BUSH</td>\n",
       "      <td>Slovenia</td>\n",
       "      <td>Kranj</td>\n",
       "      <td>2001-06-16</td>\n",
       "      <td>2001-06-16</td>\n",
       "      <td>Met with Prime Minister Drnovsek and Russian P...</td>\n",
       "      <td>-</td>\n",
       "      <td>NaN</td>\n",
       "      <td>NaN</td>\n",
       "    </tr>\n",
       "    <tr>\n",
       "      <th>4</th>\n",
       "      <td>USA</td>\n",
       "      <td>W. BUSH</td>\n",
       "      <td>United Kingdom</td>\n",
       "      <td>London, Chequers, Halton, Brize Norton</td>\n",
       "      <td>2001-07-18</td>\n",
       "      <td>2001-07-20</td>\n",
       "      <td>Met with Prime Minister Blain and Queen Elizab...</td>\n",
       "      <td>30</td>\n",
       "      <td>83</td>\n",
       "      <td>NaN</td>\n",
       "    </tr>\n",
       "  </tbody>\n",
       "</table>\n",
       "</div>"
      ],
      "text/plain": [
       "  Country of president President Location country  \\\n",
       "0                  USA   W. BUSH           Mexico   \n",
       "1                  USA   W. BUSH            Spain   \n",
       "2                  USA   W. BUSH           Poland   \n",
       "3                  USA   W. BUSH         Slovenia   \n",
       "4                  USA   W. BUSH   United Kingdom   \n",
       "\n",
       "                            Location city Date start   Date end  \\\n",
       "0                           San Cristobal 2001-02-16 2001-02-16   \n",
       "1                                  Madrid 2001-06-12 2001-06-13   \n",
       "2                                  Warsaw 2001-06-15 2001-06-16   \n",
       "3                                   Kranj 2001-06-16 2001-06-16   \n",
       "4  London, Chequers, Halton, Brize Norton 2001-07-18 2001-07-20   \n",
       "\n",
       "                                             Subject President popularity  \\\n",
       "0                        Meeting with President Fox.                    -   \n",
       "1   Met with King Juan Carlos I and President Aznar.                    -   \n",
       "2                                       State visit.                    -   \n",
       "3  Met with Prime Minister Drnovsek and Russian P...                    -   \n",
       "4  Met with Prime Minister Blain and Queen Elizab...                   30   \n",
       "\n",
       "  US favourability Unnamed: 9  \n",
       "0               68        NaN  \n",
       "1               50        NaN  \n",
       "2               86        NaN  \n",
       "3              NaN        NaN  \n",
       "4               83        NaN  "
      ]
     },
     "execution_count": 49,
     "metadata": {},
     "output_type": "execute_result"
    }
   ],
   "source": [
    "df1.head()"
   ]
  },
  {
   "cell_type": "code",
   "execution_count": 50,
   "metadata": {},
   "outputs": [],
   "source": [
    "df[\"trip_length\"] = df.apply(lambda x: x[\"Date end\"] - x[\"Date start\"] + dt.timedelta(days=1), axis=1)"
   ]
  },
  {
   "cell_type": "code",
   "execution_count": 51,
   "metadata": {},
   "outputs": [
    {
     "data": {
      "text/plain": [
       "President\n",
       "OBAMA     55 days\n",
       "TRUMP     48 days\n",
       "W. BUSH   63 days\n",
       "Name: trip_length, dtype: timedelta64[ns]"
      ]
     },
     "execution_count": 51,
     "metadata": {},
     "output_type": "execute_result"
    }
   ],
   "source": [
    "df[df[\"trip_length\"] > dt.timedelta(days=0)].groupby(\"President\")[\"trip_length\"].sum()"
   ]
  },
  {
   "cell_type": "code",
   "execution_count": 52,
   "metadata": {},
   "outputs": [
    {
     "data": {
      "text/plain": [
       "(0, 11)"
      ]
     },
     "execution_count": 52,
     "metadata": {},
     "output_type": "execute_result"
    }
   ],
   "source": [
    "df[\n",
    "    (df[\"trip_length\"] < dt.timedelta(days=0)) |\n",
    "    (df[\"trip_length\"] > dt.timedelta(days=10))\n",
    "].shape"
   ]
  },
  {
   "cell_type": "code",
   "execution_count": null,
   "metadata": {},
   "outputs": [],
   "source": []
  },
  {
   "cell_type": "code",
   "execution_count": null,
   "metadata": {},
   "outputs": [],
   "source": []
  }
 ],
 "metadata": {
  "kernelspec": {
   "display_name": "Python 3",
   "language": "python",
   "name": "python3"
  },
  "language_info": {
   "codemirror_mode": {
    "name": "ipython",
    "version": 3
   },
   "file_extension": ".py",
   "mimetype": "text/x-python",
   "name": "python",
   "nbconvert_exporter": "python",
   "pygments_lexer": "ipython3",
   "version": "3.7.3"
  }
 },
 "nbformat": 4,
 "nbformat_minor": 2
}
