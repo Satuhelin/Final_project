{
 "cells": [
  {
   "cell_type": "code",
   "execution_count": 1,
   "metadata": {},
   "outputs": [],
   "source": [
    "import pandas as pd\n",
    "import geopandas as gp\n",
    "import matplotlib.pyplot as plt\n",
    "%matplotlib inline"
   ]
  },
  {
   "cell_type": "code",
   "execution_count": 6,
   "metadata": {},
   "outputs": [],
   "source": [
    "df=pd.read_csv(\"USA presidential trips.csv\")"
   ]
  },
  {
   "cell_type": "code",
   "execution_count": 7,
   "metadata": {},
   "outputs": [
    {
     "data": {
      "text/html": [
       "<div>\n",
       "<style scoped>\n",
       "    .dataframe tbody tr th:only-of-type {\n",
       "        vertical-align: middle;\n",
       "    }\n",
       "\n",
       "    .dataframe tbody tr th {\n",
       "        vertical-align: top;\n",
       "    }\n",
       "\n",
       "    .dataframe thead th {\n",
       "        text-align: right;\n",
       "    }\n",
       "</style>\n",
       "<table border=\"1\" class=\"dataframe\">\n",
       "  <thead>\n",
       "    <tr style=\"text-align: right;\">\n",
       "      <th></th>\n",
       "      <th>Country of president</th>\n",
       "      <th>President</th>\n",
       "      <th>Location country</th>\n",
       "      <th>Location city</th>\n",
       "      <th>Date start</th>\n",
       "      <th>Date end</th>\n",
       "      <th>Subject</th>\n",
       "      <th>President popularity</th>\n",
       "      <th>US favourability</th>\n",
       "      <th>Unnamed: 9</th>\n",
       "    </tr>\n",
       "  </thead>\n",
       "  <tbody>\n",
       "    <tr>\n",
       "      <th>0</th>\n",
       "      <td>USA</td>\n",
       "      <td>W. BUSH</td>\n",
       "      <td>Mexico</td>\n",
       "      <td>San Cristobal</td>\n",
       "      <td>16.2.2001</td>\n",
       "      <td>16.2.2001</td>\n",
       "      <td>Meeting with President Fox.</td>\n",
       "      <td>-</td>\n",
       "      <td>68</td>\n",
       "      <td>NaN</td>\n",
       "    </tr>\n",
       "    <tr>\n",
       "      <th>1</th>\n",
       "      <td>USA</td>\n",
       "      <td>W. BUSH</td>\n",
       "      <td>Spain</td>\n",
       "      <td>Madrid</td>\n",
       "      <td>12.6.2001</td>\n",
       "      <td>13.6.2001</td>\n",
       "      <td>Met with King Juan Carlos I and President Aznar.</td>\n",
       "      <td>-</td>\n",
       "      <td>50</td>\n",
       "      <td>NaN</td>\n",
       "    </tr>\n",
       "    <tr>\n",
       "      <th>2</th>\n",
       "      <td>USA</td>\n",
       "      <td>W. BUSH</td>\n",
       "      <td>Poland</td>\n",
       "      <td>Warsaw</td>\n",
       "      <td>15.6.2001</td>\n",
       "      <td>16.6.2001</td>\n",
       "      <td>State visit.</td>\n",
       "      <td>-</td>\n",
       "      <td>86</td>\n",
       "      <td>NaN</td>\n",
       "    </tr>\n",
       "    <tr>\n",
       "      <th>3</th>\n",
       "      <td>USA</td>\n",
       "      <td>W. BUSH</td>\n",
       "      <td>Slovenia</td>\n",
       "      <td>Kranj</td>\n",
       "      <td>16.6.2001</td>\n",
       "      <td>16.6.2001</td>\n",
       "      <td>Met with Prime Minister Drnovsek and Russian P...</td>\n",
       "      <td>-</td>\n",
       "      <td>NaN</td>\n",
       "      <td>NaN</td>\n",
       "    </tr>\n",
       "    <tr>\n",
       "      <th>4</th>\n",
       "      <td>USA</td>\n",
       "      <td>W. BUSH</td>\n",
       "      <td>United Kingdom</td>\n",
       "      <td>London, Chequers, Halton, Brize Norton</td>\n",
       "      <td>18.7.2001</td>\n",
       "      <td>20.7.2001</td>\n",
       "      <td>Met with Prime Minister Blain and Queen Elizab...</td>\n",
       "      <td>30</td>\n",
       "      <td>83</td>\n",
       "      <td>NaN</td>\n",
       "    </tr>\n",
       "  </tbody>\n",
       "</table>\n",
       "</div>"
      ],
      "text/plain": [
       "  Country of president President Location country  \\\n",
       "0                  USA   W. BUSH           Mexico   \n",
       "1                  USA   W. BUSH            Spain   \n",
       "2                  USA   W. BUSH           Poland   \n",
       "3                  USA   W. BUSH         Slovenia   \n",
       "4                  USA   W. BUSH   United Kingdom   \n",
       "\n",
       "                            Location city Date start   Date end  \\\n",
       "0                           San Cristobal  16.2.2001  16.2.2001   \n",
       "1                                  Madrid  12.6.2001  13.6.2001   \n",
       "2                                  Warsaw  15.6.2001  16.6.2001   \n",
       "3                                   Kranj  16.6.2001  16.6.2001   \n",
       "4  London, Chequers, Halton, Brize Norton  18.7.2001  20.7.2001   \n",
       "\n",
       "                                             Subject President popularity  \\\n",
       "0                        Meeting with President Fox.                    -   \n",
       "1   Met with King Juan Carlos I and President Aznar.                    -   \n",
       "2                                       State visit.                    -   \n",
       "3  Met with Prime Minister Drnovsek and Russian P...                    -   \n",
       "4  Met with Prime Minister Blain and Queen Elizab...                   30   \n",
       "\n",
       "  US favourability Unnamed: 9  \n",
       "0               68        NaN  \n",
       "1               50        NaN  \n",
       "2               86        NaN  \n",
       "3              NaN        NaN  \n",
       "4               83        NaN  "
      ]
     },
     "execution_count": 7,
     "metadata": {},
     "output_type": "execute_result"
    }
   ],
   "source": [
    "df.head()"
   ]
  },
  {
   "cell_type": "code",
   "execution_count": 8,
   "metadata": {},
   "outputs": [
    {
     "data": {
      "text/plain": [
       "W. BUSH    35\n",
       "OBAMA      25\n",
       "TRUMP      22\n",
       "Name: President, dtype: int64"
      ]
     },
     "execution_count": 8,
     "metadata": {},
     "output_type": "execute_result"
    }
   ],
   "source": [
    "df[\"President\"].value_counts()"
   ]
  },
  {
   "cell_type": "code",
   "execution_count": null,
   "metadata": {},
   "outputs": [],
   "source": []
  }
 ],
 "metadata": {
  "kernelspec": {
   "display_name": "Python 3",
   "language": "python",
   "name": "python3"
  },
  "language_info": {
   "codemirror_mode": {
    "name": "ipython",
    "version": 3
   },
   "file_extension": ".py",
   "mimetype": "text/x-python",
   "name": "python",
   "nbconvert_exporter": "python",
   "pygments_lexer": "ipython3",
   "version": "3.7.3"
  }
 },
 "nbformat": 4,
 "nbformat_minor": 2
}
